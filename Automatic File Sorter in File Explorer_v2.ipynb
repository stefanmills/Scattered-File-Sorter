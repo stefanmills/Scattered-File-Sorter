{
 "cells": [
  {
   "cell_type": "code",
   "execution_count": 79,
   "id": "2fb4ebd3",
   "metadata": {},
   "outputs": [],
   "source": [
    "import os,shutil"
   ]
  },
  {
   "cell_type": "code",
   "execution_count": null,
   "id": "56effd8c",
   "metadata": {},
   "outputs": [],
   "source": [
    "#get file path\n",
    "path=input('Enter file path: ')\n",
    "replaced_path=path.replace(\"\\\\\",'/')\n",
    "replaced_path=replaced_path+'/'\n",
    "print(replaced_path)\n",
    "#path=r\"C:/Users/user/Desktop/AlexTheAnalyst/Python/file sorting project/\""
   ]
  },
  {
   "cell_type": "code",
   "execution_count": null,
   "id": "a5a9f7e0",
   "metadata": {
    "scrolled": false
   },
   "outputs": [],
   "source": [
    "print\n",
    "file_names=os.listdir(replaced_path)\n",
    "print(file_names)"
   ]
  },
  {
   "cell_type": "code",
   "execution_count": null,
   "id": "8ca75ca9",
   "metadata": {
    "scrolled": true
   },
   "outputs": [],
   "source": [
    "extensions = set([filename.split('.')[-1] for filename in file_names])\n",
    "folder_names=list(extensions)\n",
    "list_length= len(folder_names)\n",
    "print(folder_names)"
   ]
  },
  {
   "cell_type": "code",
   "execution_count": null,
   "id": "0b85bc2e",
   "metadata": {
    "scrolled": true
   },
   "outputs": [],
   "source": [
    "new_names_list=[]\n",
    "for folder in folder_names:\n",
    "    if not os.path.exists(replaced_path+folder+' folder'):\n",
    "        os.makedirs(replaced_path+folder+' folder')\n",
    "        new_names=folder+' folder'\n",
    "        new_names_list.append(new_names)\n",
    "print(new_names_list)"
   ]
  },
  {
   "cell_type": "code",
   "execution_count": 85,
   "id": "39b7bb87",
   "metadata": {},
   "outputs": [],
   "source": [
    "for x in range(0, list_length):\n",
    "    current_extension = '.' + folder_names[x]\n",
    "    if not current_extension in file_names:\n",
    "        current_folder = new_names_list[x]\n",
    "        for file in file_names:\n",
    "            if current_extension in file and not os.path.exists(os.path.join(replaced_path, current_folder, file)):\n",
    "                source_path = os.path.join(path, file)\n",
    "                destination_path = os.path.join(replaced_path, current_folder, file)\n",
    "                shutil.move(source_path, destination_path)\n",
    "\n",
    "print('All files have been sorted and arranged in their right folders')"
   ]
  },
  {
   "cell_type": "code",
   "execution_count": null,
   "id": "c2c8ebfb",
   "metadata": {},
   "outputs": [],
   "source": [
    " "
   ]
  },
  {
   "cell_type": "code",
   "execution_count": null,
   "id": "d2dbb9ce",
   "metadata": {},
   "outputs": [],
   "source": []
  },
  {
   "cell_type": "code",
   "execution_count": null,
   "id": "41195018",
   "metadata": {},
   "outputs": [],
   "source": []
  },
  {
   "cell_type": "code",
   "execution_count": null,
   "id": "6c15c0b2",
   "metadata": {},
   "outputs": [],
   "source": []
  },
  {
   "cell_type": "code",
   "execution_count": null,
   "id": "616b8d9a",
   "metadata": {},
   "outputs": [],
   "source": []
  },
  {
   "cell_type": "code",
   "execution_count": null,
   "id": "c1ec9efe",
   "metadata": {},
   "outputs": [],
   "source": []
  },
  {
   "cell_type": "code",
   "execution_count": null,
   "id": "e7b23ca1",
   "metadata": {},
   "outputs": [],
   "source": []
  },
  {
   "cell_type": "code",
   "execution_count": null,
   "id": "be385d9f",
   "metadata": {},
   "outputs": [],
   "source": []
  },
  {
   "cell_type": "code",
   "execution_count": null,
   "id": "ea7fea63",
   "metadata": {},
   "outputs": [],
   "source": []
  }
 ],
 "metadata": {
  "kernelspec": {
   "display_name": "Python 3 (ipykernel)",
   "language": "python",
   "name": "python3"
  },
  "language_info": {
   "codemirror_mode": {
    "name": "ipython",
    "version": 3
   },
   "file_extension": ".py",
   "mimetype": "text/x-python",
   "name": "python",
   "nbconvert_exporter": "python",
   "pygments_lexer": "ipython3",
   "version": "3.11.5"
  }
 },
 "nbformat": 4,
 "nbformat_minor": 5
}
